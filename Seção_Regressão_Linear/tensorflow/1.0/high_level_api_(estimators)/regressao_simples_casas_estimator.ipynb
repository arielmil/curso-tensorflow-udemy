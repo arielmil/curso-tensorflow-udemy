{
 "cells": [
  {
   "cell_type": "code",
   "execution_count": 2,
   "metadata": {},
   "outputs": [
    {
     "data": {
      "text/html": [
       "<div>\n",
       "<style scoped>\n",
       "    .dataframe tbody tr th:only-of-type {\n",
       "        vertical-align: middle;\n",
       "    }\n",
       "\n",
       "    .dataframe tbody tr th {\n",
       "        vertical-align: top;\n",
       "    }\n",
       "\n",
       "    .dataframe thead th {\n",
       "        text-align: right;\n",
       "    }\n",
       "</style>\n",
       "<table border=\"1\" class=\"dataframe\">\n",
       "  <thead>\n",
       "    <tr style=\"text-align: right;\">\n",
       "      <th></th>\n",
       "      <th>id</th>\n",
       "      <th>date</th>\n",
       "      <th>price</th>\n",
       "      <th>bedrooms</th>\n",
       "      <th>bathrooms</th>\n",
       "      <th>sqft_living</th>\n",
       "      <th>sqft_lot</th>\n",
       "      <th>floors</th>\n",
       "      <th>waterfront</th>\n",
       "      <th>view</th>\n",
       "      <th>...</th>\n",
       "      <th>grade</th>\n",
       "      <th>sqft_above</th>\n",
       "      <th>sqft_basement</th>\n",
       "      <th>yr_built</th>\n",
       "      <th>yr_renovated</th>\n",
       "      <th>zipcode</th>\n",
       "      <th>lat</th>\n",
       "      <th>long</th>\n",
       "      <th>sqft_living15</th>\n",
       "      <th>sqft_lot15</th>\n",
       "    </tr>\n",
       "  </thead>\n",
       "  <tbody>\n",
       "    <tr>\n",
       "      <th>0</th>\n",
       "      <td>7129300520</td>\n",
       "      <td>20141013T000000</td>\n",
       "      <td>221900.0</td>\n",
       "      <td>3</td>\n",
       "      <td>1.00</td>\n",
       "      <td>1180</td>\n",
       "      <td>5650</td>\n",
       "      <td>1.0</td>\n",
       "      <td>0</td>\n",
       "      <td>0</td>\n",
       "      <td>...</td>\n",
       "      <td>7</td>\n",
       "      <td>1180</td>\n",
       "      <td>0</td>\n",
       "      <td>1955</td>\n",
       "      <td>0</td>\n",
       "      <td>98178</td>\n",
       "      <td>47.5112</td>\n",
       "      <td>-122.257</td>\n",
       "      <td>1340</td>\n",
       "      <td>5650</td>\n",
       "    </tr>\n",
       "    <tr>\n",
       "      <th>1</th>\n",
       "      <td>6414100192</td>\n",
       "      <td>20141209T000000</td>\n",
       "      <td>538000.0</td>\n",
       "      <td>3</td>\n",
       "      <td>2.25</td>\n",
       "      <td>2570</td>\n",
       "      <td>7242</td>\n",
       "      <td>2.0</td>\n",
       "      <td>0</td>\n",
       "      <td>0</td>\n",
       "      <td>...</td>\n",
       "      <td>7</td>\n",
       "      <td>2170</td>\n",
       "      <td>400</td>\n",
       "      <td>1951</td>\n",
       "      <td>1991</td>\n",
       "      <td>98125</td>\n",
       "      <td>47.7210</td>\n",
       "      <td>-122.319</td>\n",
       "      <td>1690</td>\n",
       "      <td>7639</td>\n",
       "    </tr>\n",
       "    <tr>\n",
       "      <th>2</th>\n",
       "      <td>5631500400</td>\n",
       "      <td>20150225T000000</td>\n",
       "      <td>180000.0</td>\n",
       "      <td>2</td>\n",
       "      <td>1.00</td>\n",
       "      <td>770</td>\n",
       "      <td>10000</td>\n",
       "      <td>1.0</td>\n",
       "      <td>0</td>\n",
       "      <td>0</td>\n",
       "      <td>...</td>\n",
       "      <td>6</td>\n",
       "      <td>770</td>\n",
       "      <td>0</td>\n",
       "      <td>1933</td>\n",
       "      <td>0</td>\n",
       "      <td>98028</td>\n",
       "      <td>47.7379</td>\n",
       "      <td>-122.233</td>\n",
       "      <td>2720</td>\n",
       "      <td>8062</td>\n",
       "    </tr>\n",
       "    <tr>\n",
       "      <th>3</th>\n",
       "      <td>2487200875</td>\n",
       "      <td>20141209T000000</td>\n",
       "      <td>604000.0</td>\n",
       "      <td>4</td>\n",
       "      <td>3.00</td>\n",
       "      <td>1960</td>\n",
       "      <td>5000</td>\n",
       "      <td>1.0</td>\n",
       "      <td>0</td>\n",
       "      <td>0</td>\n",
       "      <td>...</td>\n",
       "      <td>7</td>\n",
       "      <td>1050</td>\n",
       "      <td>910</td>\n",
       "      <td>1965</td>\n",
       "      <td>0</td>\n",
       "      <td>98136</td>\n",
       "      <td>47.5208</td>\n",
       "      <td>-122.393</td>\n",
       "      <td>1360</td>\n",
       "      <td>5000</td>\n",
       "    </tr>\n",
       "    <tr>\n",
       "      <th>4</th>\n",
       "      <td>1954400510</td>\n",
       "      <td>20150218T000000</td>\n",
       "      <td>510000.0</td>\n",
       "      <td>3</td>\n",
       "      <td>2.00</td>\n",
       "      <td>1680</td>\n",
       "      <td>8080</td>\n",
       "      <td>1.0</td>\n",
       "      <td>0</td>\n",
       "      <td>0</td>\n",
       "      <td>...</td>\n",
       "      <td>8</td>\n",
       "      <td>1680</td>\n",
       "      <td>0</td>\n",
       "      <td>1987</td>\n",
       "      <td>0</td>\n",
       "      <td>98074</td>\n",
       "      <td>47.6168</td>\n",
       "      <td>-122.045</td>\n",
       "      <td>1800</td>\n",
       "      <td>7503</td>\n",
       "    </tr>\n",
       "  </tbody>\n",
       "</table>\n",
       "<p>5 rows × 21 columns</p>\n",
       "</div>"
      ],
      "text/plain": [
       "           id             date     price  bedrooms  bathrooms  sqft_living  \\\n",
       "0  7129300520  20141013T000000  221900.0         3       1.00         1180   \n",
       "1  6414100192  20141209T000000  538000.0         3       2.25         2570   \n",
       "2  5631500400  20150225T000000  180000.0         2       1.00          770   \n",
       "3  2487200875  20141209T000000  604000.0         4       3.00         1960   \n",
       "4  1954400510  20150218T000000  510000.0         3       2.00         1680   \n",
       "\n",
       "   sqft_lot  floors  waterfront  view  ...  grade  sqft_above  sqft_basement  \\\n",
       "0      5650     1.0           0     0  ...      7        1180              0   \n",
       "1      7242     2.0           0     0  ...      7        2170            400   \n",
       "2     10000     1.0           0     0  ...      6         770              0   \n",
       "3      5000     1.0           0     0  ...      7        1050            910   \n",
       "4      8080     1.0           0     0  ...      8        1680              0   \n",
       "\n",
       "   yr_built  yr_renovated  zipcode      lat     long  sqft_living15  \\\n",
       "0      1955             0    98178  47.5112 -122.257           1340   \n",
       "1      1951          1991    98125  47.7210 -122.319           1690   \n",
       "2      1933             0    98028  47.7379 -122.233           2720   \n",
       "3      1965             0    98136  47.5208 -122.393           1360   \n",
       "4      1987             0    98074  47.6168 -122.045           1800   \n",
       "\n",
       "   sqft_lot15  \n",
       "0        5650  \n",
       "1        7639  \n",
       "2        8062  \n",
       "3        5000  \n",
       "4        7503  \n",
       "\n",
       "[5 rows x 21 columns]"
      ]
     },
     "execution_count": 2,
     "metadata": {},
     "output_type": "execute_result"
    }
   ],
   "source": [
    "import pandas as pd\n",
    "base = pd.read_csv('house_prices.csv')\n",
    "base.head()"
   ]
  },
  {
   "cell_type": "code",
   "execution_count": 3,
   "metadata": {},
   "outputs": [
    {
     "data": {
      "text/plain": [
       "(21613, 21)"
      ]
     },
     "execution_count": 3,
     "metadata": {},
     "output_type": "execute_result"
    }
   ],
   "source": [
    "base.shape"
   ]
  },
  {
   "cell_type": "code",
   "execution_count": 4,
   "metadata": {},
   "outputs": [],
   "source": [
    "X = base.iloc[:, 5:6].values\n",
    "y = base.iloc[:, 2:3].values"
   ]
  },
  {
   "cell_type": "code",
   "execution_count": 5,
   "metadata": {},
   "outputs": [
    {
     "data": {
      "text/plain": [
       "array([[1180],\n",
       "       [2570],\n",
       "       [ 770],\n",
       "       ...,\n",
       "       [1020],\n",
       "       [1600],\n",
       "       [1020]])"
      ]
     },
     "execution_count": 5,
     "metadata": {},
     "output_type": "execute_result"
    }
   ],
   "source": [
    "X"
   ]
  },
  {
   "cell_type": "code",
   "execution_count": 6,
   "metadata": {},
   "outputs": [
    {
     "data": {
      "text/plain": [
       "array([[221900.],\n",
       "       [538000.],\n",
       "       [180000.],\n",
       "       ...,\n",
       "       [402101.],\n",
       "       [400000.],\n",
       "       [325000.]])"
      ]
     },
     "execution_count": 6,
     "metadata": {},
     "output_type": "execute_result"
    }
   ],
   "source": [
    "y"
   ]
  },
  {
   "cell_type": "code",
   "execution_count": 7,
   "metadata": {},
   "outputs": [],
   "source": [
    "from sklearn.preprocessing import StandardScaler\n",
    "scaler_x = StandardScaler()\n",
    "X = scaler_x.fit_transform(X)\n",
    "scaler_y = StandardScaler()\n",
    "y = scaler_y.fit_transform(y)"
   ]
  },
  {
   "cell_type": "code",
   "execution_count": 8,
   "metadata": {},
   "outputs": [
    {
     "data": {
      "text/plain": [
       "array([[-0.97983502],\n",
       "       [ 0.53363434],\n",
       "       [-1.42625404],\n",
       "       ...,\n",
       "       [-1.15404732],\n",
       "       [-0.52252773],\n",
       "       [-1.15404732]])"
      ]
     },
     "execution_count": 8,
     "metadata": {},
     "output_type": "execute_result"
    }
   ],
   "source": [
    "X"
   ]
  },
  {
   "cell_type": "code",
   "execution_count": 9,
   "metadata": {},
   "outputs": [
    {
     "data": {
      "text/plain": [
       "array([[-0.86671733],\n",
       "       [-0.00568792],\n",
       "       [-0.98084935],\n",
       "       ...,\n",
       "       [-0.37586519],\n",
       "       [-0.38158814],\n",
       "       [-0.58588173]])"
      ]
     },
     "execution_count": 9,
     "metadata": {},
     "output_type": "execute_result"
    }
   ],
   "source": [
    "y"
   ]
  },
  {
   "cell_type": "code",
   "execution_count": 10,
   "metadata": {},
   "outputs": [
    {
     "name": "stderr",
     "output_type": "stream",
     "text": [
      "/home/ariel/anaconda3/envs/curso-tensorflow/lib/python3.6/site-packages/tensorflow/python/framework/dtypes.py:516: FutureWarning: Passing (type, 1) or '1type' as a synonym of type is deprecated; in a future version of numpy, it will be understood as (type, (1,)) / '(1,)type'.\n",
      "  _np_qint8 = np.dtype([(\"qint8\", np.int8, 1)])\n",
      "/home/ariel/anaconda3/envs/curso-tensorflow/lib/python3.6/site-packages/tensorflow/python/framework/dtypes.py:517: FutureWarning: Passing (type, 1) or '1type' as a synonym of type is deprecated; in a future version of numpy, it will be understood as (type, (1,)) / '(1,)type'.\n",
      "  _np_quint8 = np.dtype([(\"quint8\", np.uint8, 1)])\n",
      "/home/ariel/anaconda3/envs/curso-tensorflow/lib/python3.6/site-packages/tensorflow/python/framework/dtypes.py:518: FutureWarning: Passing (type, 1) or '1type' as a synonym of type is deprecated; in a future version of numpy, it will be understood as (type, (1,)) / '(1,)type'.\n",
      "  _np_qint16 = np.dtype([(\"qint16\", np.int16, 1)])\n",
      "/home/ariel/anaconda3/envs/curso-tensorflow/lib/python3.6/site-packages/tensorflow/python/framework/dtypes.py:519: FutureWarning: Passing (type, 1) or '1type' as a synonym of type is deprecated; in a future version of numpy, it will be understood as (type, (1,)) / '(1,)type'.\n",
      "  _np_quint16 = np.dtype([(\"quint16\", np.uint16, 1)])\n",
      "/home/ariel/anaconda3/envs/curso-tensorflow/lib/python3.6/site-packages/tensorflow/python/framework/dtypes.py:520: FutureWarning: Passing (type, 1) or '1type' as a synonym of type is deprecated; in a future version of numpy, it will be understood as (type, (1,)) / '(1,)type'.\n",
      "  _np_qint32 = np.dtype([(\"qint32\", np.int32, 1)])\n",
      "/home/ariel/anaconda3/envs/curso-tensorflow/lib/python3.6/site-packages/tensorflow/python/framework/dtypes.py:525: FutureWarning: Passing (type, 1) or '1type' as a synonym of type is deprecated; in a future version of numpy, it will be understood as (type, (1,)) / '(1,)type'.\n",
      "  np_resource = np.dtype([(\"resource\", np.ubyte, 1)])\n"
     ]
    },
    {
     "name": "stdout",
     "output_type": "stream",
     "text": [
      "WARNING:tensorflow:From /home/ariel/anaconda3/envs/curso-tensorflow/lib/python3.6/site-packages/tensorflow/python/compat/v2_compat.py:61: disable_resource_variables (from tensorflow.python.ops.variable_scope) is deprecated and will be removed in a future version.\n",
      "Instructions for updating:\n",
      "non-resource variables are not supported in the long term\n"
     ]
    },
    {
     "name": "stderr",
     "output_type": "stream",
     "text": [
      "/home/ariel/anaconda3/envs/curso-tensorflow/lib/python3.6/site-packages/tensorboard/compat/tensorflow_stub/dtypes.py:541: FutureWarning: Passing (type, 1) or '1type' as a synonym of type is deprecated; in a future version of numpy, it will be understood as (type, (1,)) / '(1,)type'.\n",
      "  _np_qint8 = np.dtype([(\"qint8\", np.int8, 1)])\n",
      "/home/ariel/anaconda3/envs/curso-tensorflow/lib/python3.6/site-packages/tensorboard/compat/tensorflow_stub/dtypes.py:542: FutureWarning: Passing (type, 1) or '1type' as a synonym of type is deprecated; in a future version of numpy, it will be understood as (type, (1,)) / '(1,)type'.\n",
      "  _np_quint8 = np.dtype([(\"quint8\", np.uint8, 1)])\n",
      "/home/ariel/anaconda3/envs/curso-tensorflow/lib/python3.6/site-packages/tensorboard/compat/tensorflow_stub/dtypes.py:543: FutureWarning: Passing (type, 1) or '1type' as a synonym of type is deprecated; in a future version of numpy, it will be understood as (type, (1,)) / '(1,)type'.\n",
      "  _np_qint16 = np.dtype([(\"qint16\", np.int16, 1)])\n",
      "/home/ariel/anaconda3/envs/curso-tensorflow/lib/python3.6/site-packages/tensorboard/compat/tensorflow_stub/dtypes.py:544: FutureWarning: Passing (type, 1) or '1type' as a synonym of type is deprecated; in a future version of numpy, it will be understood as (type, (1,)) / '(1,)type'.\n",
      "  _np_quint16 = np.dtype([(\"quint16\", np.uint16, 1)])\n",
      "/home/ariel/anaconda3/envs/curso-tensorflow/lib/python3.6/site-packages/tensorboard/compat/tensorflow_stub/dtypes.py:545: FutureWarning: Passing (type, 1) or '1type' as a synonym of type is deprecated; in a future version of numpy, it will be understood as (type, (1,)) / '(1,)type'.\n",
      "  _np_qint32 = np.dtype([(\"qint32\", np.int32, 1)])\n",
      "/home/ariel/anaconda3/envs/curso-tensorflow/lib/python3.6/site-packages/tensorboard/compat/tensorflow_stub/dtypes.py:550: FutureWarning: Passing (type, 1) or '1type' as a synonym of type is deprecated; in a future version of numpy, it will be understood as (type, (1,)) / '(1,)type'.\n",
      "  np_resource = np.dtype([(\"resource\", np.ubyte, 1)])\n"
     ]
    }
   ],
   "source": [
    "import tensorflow as tf"
   ]
  },
  {
   "cell_type": "code",
   "execution_count": 11,
   "metadata": {},
   "outputs": [],
   "source": [
    "colunas = [tf.feature_column.numeric_column('x', shape = [1])]"
   ]
  },
  {
   "cell_type": "code",
   "execution_count": 12,
   "metadata": {},
   "outputs": [
    {
     "data": {
      "text/plain": [
       "[NumericColumn(key='x', shape=(1,), default_value=None, dtype=tf.float32, normalizer_fn=None)]"
      ]
     },
     "execution_count": 12,
     "metadata": {},
     "output_type": "execute_result"
    }
   ],
   "source": [
    "colunas"
   ]
  },
  {
   "cell_type": "code",
   "execution_count": 13,
   "metadata": {},
   "outputs": [
    {
     "name": "stdout",
     "output_type": "stream",
     "text": [
      "INFO:tensorflow:Using default config.\n",
      "WARNING:tensorflow:Using temporary folder as model directory: /tmp/tmphxjwaen0\n",
      "INFO:tensorflow:Using config: {'_model_dir': '/tmp/tmphxjwaen0', '_tf_random_seed': None, '_save_summary_steps': 100, '_save_checkpoints_steps': None, '_save_checkpoints_secs': 600, '_session_config': allow_soft_placement: true\n",
      "graph_options {\n",
      "  rewrite_options {\n",
      "    meta_optimizer_iterations: ONE\n",
      "  }\n",
      "}\n",
      ", '_keep_checkpoint_max': 5, '_keep_checkpoint_every_n_hours': 10000, '_log_step_count_steps': 100, '_train_distribute': None, '_device_fn': None, '_protocol': None, '_eval_distribute': None, '_experimental_distribute': None, '_experimental_max_worker_delay_secs': None, '_service': None, '_cluster_spec': <tensorflow.python.training.server_lib.ClusterSpec object at 0x7fd409a9b4a8>, '_task_type': 'worker', '_task_id': 0, '_global_id_in_cluster': 0, '_master': '', '_evaluation_master': '', '_is_chief': True, '_num_ps_replicas': 0, '_num_worker_replicas': 1}\n"
     ]
    }
   ],
   "source": [
    "regressor = tf.estimator.LinearRegressor(feature_columns=colunas)"
   ]
  },
  {
   "cell_type": "code",
   "execution_count": 14,
   "metadata": {},
   "outputs": [],
   "source": [
    "from sklearn.model_selection import train_test_split\n",
    "X_treinamento, X_teste, y_treinamento, y_teste = train_test_split(X, y, test_size = 0.3)"
   ]
  },
  {
   "cell_type": "code",
   "execution_count": 15,
   "metadata": {},
   "outputs": [
    {
     "data": {
      "text/plain": [
       "(15129, 1)"
      ]
     },
     "execution_count": 15,
     "metadata": {},
     "output_type": "execute_result"
    }
   ],
   "source": [
    "X_treinamento.shape"
   ]
  },
  {
   "cell_type": "code",
   "execution_count": 16,
   "metadata": {},
   "outputs": [
    {
     "data": {
      "text/plain": [
       "(15129, 1)"
      ]
     },
     "execution_count": 16,
     "metadata": {},
     "output_type": "execute_result"
    }
   ],
   "source": [
    "y_treinamento.shape"
   ]
  },
  {
   "cell_type": "code",
   "execution_count": 17,
   "metadata": {},
   "outputs": [
    {
     "data": {
      "text/plain": [
       "(6484, 1)"
      ]
     },
     "execution_count": 17,
     "metadata": {},
     "output_type": "execute_result"
    }
   ],
   "source": [
    "X_teste.shape"
   ]
  },
  {
   "cell_type": "code",
   "execution_count": 18,
   "metadata": {},
   "outputs": [
    {
     "data": {
      "text/plain": [
       "(6484, 1)"
      ]
     },
     "execution_count": 18,
     "metadata": {},
     "output_type": "execute_result"
    }
   ],
   "source": [
    "y_teste.shape"
   ]
  },
  {
   "cell_type": "code",
   "execution_count": 19,
   "metadata": {},
   "outputs": [],
   "source": [
    "funcao_treinamento = tf.estimator.inputs.numpy_input_fn({'x': X_treinamento}, y_treinamento,\n",
    "                                                        batch_size = 32, num_epochs = None, \n",
    "                                                        shuffle = True)"
   ]
  },
  {
   "cell_type": "code",
   "execution_count": 20,
   "metadata": {},
   "outputs": [],
   "source": [
    "funcao_teste = tf.estimator.inputs.numpy_input_fn({'x': X_teste}, y_teste, batch_size = 32, \n",
    "                                                  num_epochs = 1000, shuffle = False)"
   ]
  },
  {
   "cell_type": "code",
   "execution_count": 21,
   "metadata": {},
   "outputs": [
    {
     "name": "stdout",
     "output_type": "stream",
     "text": [
      "WARNING:tensorflow:From /home/ariel/anaconda3/envs/curso-tensorflow/lib/python3.6/site-packages/tensorflow/python/training/training_util.py:236: Variable.initialized_value (from tensorflow.python.ops.variables) is deprecated and will be removed in a future version.\n",
      "Instructions for updating:\n",
      "Use Variable.read_value. Variables in 2.X are initialized automatically both in eager and graph (inside tf.defun) contexts.\n",
      "WARNING:tensorflow:From /home/ariel/anaconda3/envs/curso-tensorflow/lib/python3.6/site-packages/tensorflow_estimator/python/estimator/inputs/queues/feeding_queue_runner.py:62: QueueRunner.__init__ (from tensorflow.python.training.queue_runner_impl) is deprecated and will be removed in a future version.\n",
      "Instructions for updating:\n",
      "To construct input pipelines, use the `tf.data` module.\n",
      "WARNING:tensorflow:From /home/ariel/anaconda3/envs/curso-tensorflow/lib/python3.6/site-packages/tensorflow_estimator/python/estimator/inputs/queues/feeding_functions.py:500: add_queue_runner (from tensorflow.python.training.queue_runner_impl) is deprecated and will be removed in a future version.\n",
      "Instructions for updating:\n",
      "To construct input pipelines, use the `tf.data` module.\n",
      "INFO:tensorflow:Calling model_fn.\n",
      "WARNING:tensorflow:From /home/ariel/anaconda3/envs/curso-tensorflow/lib/python3.6/site-packages/tensorflow_estimator/python/estimator/canned/linear.py:308: to_float (from tensorflow.python.ops.math_ops) is deprecated and will be removed in a future version.\n",
      "Instructions for updating:\n",
      "Use `tf.cast` instead.\n",
      "INFO:tensorflow:Done calling model_fn.\n",
      "INFO:tensorflow:Create CheckpointSaverHook.\n",
      "WARNING:tensorflow:From /home/ariel/anaconda3/envs/curso-tensorflow/lib/python3.6/site-packages/tensorflow/python/ops/array_ops.py:1354: add_dispatch_support.<locals>.wrapper (from tensorflow.python.ops.array_ops) is deprecated and will be removed in a future version.\n",
      "Instructions for updating:\n",
      "Use tf.where in 2.0, which has the same broadcast rule as np.where\n",
      "INFO:tensorflow:Graph was finalized.\n",
      "INFO:tensorflow:Running local_init_op.\n",
      "INFO:tensorflow:Done running local_init_op.\n",
      "WARNING:tensorflow:From /home/ariel/anaconda3/envs/curso-tensorflow/lib/python3.6/site-packages/tensorflow/python/training/monitored_session.py:875: start_queue_runners (from tensorflow.python.training.queue_runner_impl) is deprecated and will be removed in a future version.\n",
      "Instructions for updating:\n",
      "To construct input pipelines, use the `tf.data` module.\n",
      "INFO:tensorflow:Saving checkpoints for 0 into /tmp/tmphxjwaen0/model.ckpt.\n",
      "INFO:tensorflow:loss = 22.668198, step = 1\n",
      "INFO:tensorflow:global_step/sec: 268.94\n",
      "INFO:tensorflow:loss = 17.878773, step = 101 (0.372 sec)\n",
      "WARNING:tensorflow:It seems that global step (tf.train.get_global_step) has not been increased. Current value (could be stable): 154 vs previous value: 154. You could increase the global step by passing tf.train.get_global_step() to Optimizer.apply_gradients or Optimizer.minimize.\n",
      "INFO:tensorflow:global_step/sec: 480.351\n",
      "INFO:tensorflow:loss = 22.181902, step = 201 (0.209 sec)\n",
      "INFO:tensorflow:global_step/sec: 560.747\n",
      "INFO:tensorflow:loss = 11.0998955, step = 301 (0.178 sec)\n",
      "INFO:tensorflow:global_step/sec: 422.771\n",
      "INFO:tensorflow:loss = 4.6419683, step = 401 (0.236 sec)\n",
      "INFO:tensorflow:global_step/sec: 507.337\n",
      "INFO:tensorflow:loss = 6.7852516, step = 501 (0.198 sec)\n",
      "INFO:tensorflow:global_step/sec: 231.162\n",
      "INFO:tensorflow:loss = 17.055754, step = 601 (0.433 sec)\n",
      "INFO:tensorflow:global_step/sec: 508.966\n",
      "INFO:tensorflow:loss = 11.412268, step = 701 (0.196 sec)\n",
      "INFO:tensorflow:global_step/sec: 577.976\n",
      "INFO:tensorflow:loss = 8.472225, step = 801 (0.174 sec)\n",
      "INFO:tensorflow:global_step/sec: 505.405\n",
      "INFO:tensorflow:loss = 8.937466, step = 901 (0.207 sec)\n",
      "INFO:tensorflow:global_step/sec: 438.945\n",
      "INFO:tensorflow:loss = 10.177528, step = 1001 (0.218 sec)\n",
      "INFO:tensorflow:global_step/sec: 237.409\n",
      "INFO:tensorflow:loss = 12.002275, step = 1101 (0.422 sec)\n",
      "INFO:tensorflow:global_step/sec: 587.192\n",
      "INFO:tensorflow:loss = 16.416414, step = 1201 (0.170 sec)\n",
      "INFO:tensorflow:global_step/sec: 662.935\n",
      "INFO:tensorflow:loss = 42.67961, step = 1301 (0.152 sec)\n",
      "INFO:tensorflow:global_step/sec: 635.606\n",
      "INFO:tensorflow:loss = 10.462458, step = 1401 (0.157 sec)\n",
      "INFO:tensorflow:global_step/sec: 425.156\n",
      "INFO:tensorflow:loss = 7.4722605, step = 1501 (0.236 sec)\n",
      "INFO:tensorflow:global_step/sec: 631.686\n",
      "INFO:tensorflow:loss = 50.325428, step = 1601 (0.157 sec)\n",
      "INFO:tensorflow:global_step/sec: 747.139\n",
      "INFO:tensorflow:loss = 14.579389, step = 1701 (0.135 sec)\n",
      "INFO:tensorflow:global_step/sec: 542.316\n",
      "INFO:tensorflow:loss = 8.364279, step = 1801 (0.185 sec)\n",
      "INFO:tensorflow:global_step/sec: 788.596\n",
      "INFO:tensorflow:loss = 18.941925, step = 1901 (0.125 sec)\n",
      "INFO:tensorflow:global_step/sec: 841.763\n",
      "INFO:tensorflow:loss = 8.319558, step = 2001 (0.119 sec)\n",
      "INFO:tensorflow:global_step/sec: 665.752\n",
      "INFO:tensorflow:loss = 11.183186, step = 2101 (0.150 sec)\n",
      "INFO:tensorflow:global_step/sec: 650.731\n",
      "INFO:tensorflow:loss = 12.777819, step = 2201 (0.155 sec)\n",
      "INFO:tensorflow:global_step/sec: 731.231\n",
      "INFO:tensorflow:loss = 9.016352, step = 2301 (0.135 sec)\n",
      "INFO:tensorflow:global_step/sec: 667.621\n",
      "INFO:tensorflow:loss = 10.84161, step = 2401 (0.150 sec)\n",
      "INFO:tensorflow:global_step/sec: 764.564\n",
      "INFO:tensorflow:loss = 7.618965, step = 2501 (0.131 sec)\n",
      "INFO:tensorflow:global_step/sec: 782.809\n",
      "INFO:tensorflow:loss = 7.420097, step = 2601 (0.128 sec)\n",
      "INFO:tensorflow:global_step/sec: 762.548\n",
      "INFO:tensorflow:loss = 20.535885, step = 2701 (0.131 sec)\n",
      "INFO:tensorflow:global_step/sec: 792.419\n",
      "INFO:tensorflow:loss = 5.67652, step = 2801 (0.125 sec)\n",
      "INFO:tensorflow:global_step/sec: 793.934\n",
      "INFO:tensorflow:loss = 25.468958, step = 2901 (0.126 sec)\n",
      "INFO:tensorflow:global_step/sec: 819.477\n",
      "INFO:tensorflow:loss = 7.9440846, step = 3001 (0.122 sec)\n",
      "INFO:tensorflow:global_step/sec: 855.277\n",
      "INFO:tensorflow:loss = 22.347574, step = 3101 (0.116 sec)\n",
      "INFO:tensorflow:global_step/sec: 801.288\n",
      "INFO:tensorflow:loss = 23.757406, step = 3201 (0.126 sec)\n",
      "INFO:tensorflow:global_step/sec: 604.365\n",
      "INFO:tensorflow:loss = 14.997007, step = 3301 (0.168 sec)\n",
      "INFO:tensorflow:global_step/sec: 802.411\n",
      "INFO:tensorflow:loss = 21.07655, step = 3401 (0.124 sec)\n",
      "INFO:tensorflow:global_step/sec: 599.406\n",
      "INFO:tensorflow:loss = 25.730127, step = 3501 (0.167 sec)\n",
      "INFO:tensorflow:global_step/sec: 728.992\n",
      "INFO:tensorflow:loss = 16.784714, step = 3601 (0.134 sec)\n",
      "INFO:tensorflow:global_step/sec: 862.726\n",
      "INFO:tensorflow:loss = 9.503729, step = 3701 (0.117 sec)\n",
      "INFO:tensorflow:global_step/sec: 695.913\n",
      "INFO:tensorflow:loss = 12.199163, step = 3801 (0.145 sec)\n",
      "INFO:tensorflow:global_step/sec: 696.227\n",
      "INFO:tensorflow:loss = 8.555946, step = 3901 (0.144 sec)\n",
      "INFO:tensorflow:global_step/sec: 782.962\n",
      "INFO:tensorflow:loss = 8.339585, step = 4001 (0.126 sec)\n",
      "INFO:tensorflow:global_step/sec: 743.985\n",
      "INFO:tensorflow:loss = 30.691032, step = 4101 (0.135 sec)\n",
      "INFO:tensorflow:global_step/sec: 726.142\n",
      "INFO:tensorflow:loss = 9.881153, step = 4201 (0.137 sec)\n",
      "INFO:tensorflow:global_step/sec: 813.772\n",
      "INFO:tensorflow:loss = 8.232258, step = 4301 (0.123 sec)\n",
      "INFO:tensorflow:global_step/sec: 818.083\n",
      "INFO:tensorflow:loss = 23.139467, step = 4401 (0.122 sec)\n",
      "INFO:tensorflow:global_step/sec: 839.561\n",
      "INFO:tensorflow:loss = 6.3991966, step = 4501 (0.120 sec)\n",
      "INFO:tensorflow:global_step/sec: 791.433\n",
      "INFO:tensorflow:loss = 7.8292933, step = 4601 (0.126 sec)\n",
      "INFO:tensorflow:global_step/sec: 750.657\n",
      "INFO:tensorflow:loss = 18.725893, step = 4701 (0.133 sec)\n",
      "INFO:tensorflow:global_step/sec: 797.249\n",
      "INFO:tensorflow:loss = 13.003609, step = 4801 (0.127 sec)\n",
      "INFO:tensorflow:global_step/sec: 798.769\n",
      "INFO:tensorflow:loss = 10.676548, step = 4901 (0.123 sec)\n",
      "INFO:tensorflow:global_step/sec: 855.497\n",
      "INFO:tensorflow:loss = 8.559103, step = 5001 (0.117 sec)\n",
      "INFO:tensorflow:global_step/sec: 788.783\n",
      "INFO:tensorflow:loss = 9.191773, step = 5101 (0.127 sec)\n",
      "INFO:tensorflow:global_step/sec: 857.82\n",
      "INFO:tensorflow:loss = 6.745948, step = 5201 (0.117 sec)\n",
      "INFO:tensorflow:global_step/sec: 755.154\n",
      "INFO:tensorflow:loss = 9.977996, step = 5301 (0.132 sec)\n",
      "INFO:tensorflow:global_step/sec: 848.098\n",
      "INFO:tensorflow:loss = 9.729469, step = 5401 (0.118 sec)\n",
      "INFO:tensorflow:global_step/sec: 672.334\n",
      "INFO:tensorflow:loss = 9.461802, step = 5501 (0.152 sec)\n",
      "INFO:tensorflow:global_step/sec: 640.219\n",
      "INFO:tensorflow:loss = 10.200317, step = 5601 (0.153 sec)\n",
      "INFO:tensorflow:global_step/sec: 827.592\n",
      "INFO:tensorflow:loss = 12.184797, step = 5701 (0.121 sec)\n",
      "INFO:tensorflow:global_step/sec: 803.551\n",
      "INFO:tensorflow:loss = 7.496648, step = 5801 (0.124 sec)\n",
      "INFO:tensorflow:global_step/sec: 612.151\n",
      "INFO:tensorflow:loss = 16.413126, step = 5901 (0.163 sec)\n",
      "INFO:tensorflow:global_step/sec: 775.314\n",
      "INFO:tensorflow:loss = 49.32871, step = 6001 (0.129 sec)\n",
      "INFO:tensorflow:global_step/sec: 773.965\n",
      "INFO:tensorflow:loss = 14.428687, step = 6101 (0.129 sec)\n",
      "INFO:tensorflow:global_step/sec: 746.703\n",
      "INFO:tensorflow:loss = 9.908798, step = 6201 (0.134 sec)\n",
      "INFO:tensorflow:global_step/sec: 827.122\n",
      "INFO:tensorflow:loss = 7.454889, step = 6301 (0.121 sec)\n",
      "INFO:tensorflow:global_step/sec: 893.862\n",
      "INFO:tensorflow:loss = 29.875118, step = 6401 (0.111 sec)\n",
      "INFO:tensorflow:global_step/sec: 806.803\n",
      "INFO:tensorflow:loss = 47.57161, step = 6501 (0.126 sec)\n",
      "INFO:tensorflow:global_step/sec: 865.087\n",
      "INFO:tensorflow:loss = 29.743977, step = 6601 (0.114 sec)\n",
      "INFO:tensorflow:global_step/sec: 890.609\n",
      "INFO:tensorflow:loss = 13.537489, step = 6701 (0.112 sec)\n",
      "INFO:tensorflow:global_step/sec: 847.793\n",
      "INFO:tensorflow:loss = 49.058357, step = 6801 (0.118 sec)\n",
      "INFO:tensorflow:global_step/sec: 801.403\n",
      "INFO:tensorflow:loss = 17.441608, step = 6901 (0.125 sec)\n",
      "INFO:tensorflow:global_step/sec: 734.571\n",
      "INFO:tensorflow:loss = 39.644257, step = 7001 (0.136 sec)\n",
      "INFO:tensorflow:global_step/sec: 963.738\n",
      "INFO:tensorflow:loss = 4.3618035, step = 7101 (0.105 sec)\n",
      "INFO:tensorflow:global_step/sec: 907.328\n",
      "INFO:tensorflow:loss = 7.518523, step = 7201 (0.109 sec)\n",
      "INFO:tensorflow:global_step/sec: 991.716\n",
      "INFO:tensorflow:loss = 20.03033, step = 7301 (0.101 sec)\n",
      "INFO:tensorflow:global_step/sec: 909.476\n",
      "INFO:tensorflow:loss = 27.654594, step = 7401 (0.110 sec)\n",
      "INFO:tensorflow:global_step/sec: 985.638\n",
      "INFO:tensorflow:loss = 9.1387825, step = 7501 (0.102 sec)\n",
      "INFO:tensorflow:global_step/sec: 731.78\n",
      "INFO:tensorflow:loss = 6.9763565, step = 7601 (0.138 sec)\n",
      "INFO:tensorflow:global_step/sec: 639.665\n",
      "INFO:tensorflow:loss = 7.53835, step = 7701 (0.155 sec)\n",
      "INFO:tensorflow:global_step/sec: 880.147\n",
      "INFO:tensorflow:loss = 30.237785, step = 7801 (0.113 sec)\n",
      "INFO:tensorflow:global_step/sec: 845.074\n",
      "INFO:tensorflow:loss = 11.786728, step = 7901 (0.119 sec)\n",
      "INFO:tensorflow:global_step/sec: 919.02\n",
      "INFO:tensorflow:loss = 43.38499, step = 8001 (0.109 sec)\n",
      "INFO:tensorflow:global_step/sec: 914.12\n",
      "INFO:tensorflow:loss = 9.956679, step = 8101 (0.109 sec)\n",
      "INFO:tensorflow:global_step/sec: 936.237\n",
      "INFO:tensorflow:loss = 14.075957, step = 8201 (0.109 sec)\n",
      "INFO:tensorflow:global_step/sec: 654.432\n",
      "INFO:tensorflow:loss = 5.826842, step = 8301 (0.151 sec)\n",
      "INFO:tensorflow:global_step/sec: 844.069\n",
      "INFO:tensorflow:loss = 64.36067, step = 8401 (0.118 sec)\n",
      "INFO:tensorflow:global_step/sec: 809.818\n",
      "INFO:tensorflow:loss = 16.422901, step = 8501 (0.124 sec)\n",
      "INFO:tensorflow:global_step/sec: 864.384\n",
      "INFO:tensorflow:loss = 6.1645904, step = 8601 (0.116 sec)\n",
      "INFO:tensorflow:global_step/sec: 888.432\n",
      "INFO:tensorflow:loss = 12.667886, step = 8701 (0.113 sec)\n",
      "INFO:tensorflow:global_step/sec: 814.814\n",
      "INFO:tensorflow:loss = 16.737976, step = 8801 (0.122 sec)\n",
      "INFO:tensorflow:global_step/sec: 844.181\n",
      "INFO:tensorflow:loss = 10.734754, step = 8901 (0.118 sec)\n",
      "INFO:tensorflow:global_step/sec: 863.941\n",
      "INFO:tensorflow:loss = 7.5622387, step = 9001 (0.117 sec)\n",
      "INFO:tensorflow:global_step/sec: 851.398\n",
      "INFO:tensorflow:loss = 8.649813, step = 9101 (0.117 sec)\n",
      "INFO:tensorflow:global_step/sec: 836.245\n",
      "INFO:tensorflow:loss = 10.811838, step = 9201 (0.119 sec)\n",
      "INFO:tensorflow:global_step/sec: 917.231\n",
      "INFO:tensorflow:loss = 7.5855703, step = 9301 (0.111 sec)\n",
      "INFO:tensorflow:global_step/sec: 608.587\n",
      "INFO:tensorflow:loss = 17.842068, step = 9401 (0.163 sec)\n",
      "INFO:tensorflow:global_step/sec: 722.401\n",
      "INFO:tensorflow:loss = 8.118633, step = 9501 (0.138 sec)\n",
      "INFO:tensorflow:global_step/sec: 850.127\n",
      "INFO:tensorflow:loss = 6.4442344, step = 9601 (0.117 sec)\n",
      "INFO:tensorflow:global_step/sec: 901.015\n",
      "INFO:tensorflow:loss = 13.213993, step = 9701 (0.112 sec)\n",
      "INFO:tensorflow:global_step/sec: 602.992\n",
      "INFO:tensorflow:loss = 9.527176, step = 9801 (0.165 sec)\n",
      "INFO:tensorflow:global_step/sec: 832.768\n",
      "INFO:tensorflow:loss = 9.360918, step = 9901 (0.121 sec)\n",
      "INFO:tensorflow:Saving checkpoints for 10000 into /tmp/tmphxjwaen0/model.ckpt.\n",
      "INFO:tensorflow:Loss for final step: 32.352173.\n"
     ]
    },
    {
     "data": {
      "text/plain": [
       "<tensorflow_estimator.python.estimator.canned.linear.LinearRegressor at 0x7fd41f0de7f0>"
      ]
     },
     "execution_count": 21,
     "metadata": {},
     "output_type": "execute_result"
    }
   ],
   "source": [
    "regressor.train(input_fn = funcao_treinamento, steps = 10000)"
   ]
  },
  {
   "cell_type": "code",
   "execution_count": 22,
   "metadata": {},
   "outputs": [
    {
     "name": "stdout",
     "output_type": "stream",
     "text": [
      "INFO:tensorflow:Calling model_fn.\n",
      "INFO:tensorflow:Done calling model_fn.\n",
      "INFO:tensorflow:Starting evaluation at 2024-02-07T00:05:45Z\n",
      "INFO:tensorflow:Graph was finalized.\n",
      "WARNING:tensorflow:From /home/ariel/anaconda3/envs/curso-tensorflow/lib/python3.6/site-packages/tensorflow/python/training/saver.py:1276: checkpoint_exists (from tensorflow.python.training.checkpoint_management) is deprecated and will be removed in a future version.\n",
      "Instructions for updating:\n",
      "Use standard file APIs to check for files with this prefix.\n",
      "INFO:tensorflow:Restoring parameters from /tmp/tmphxjwaen0/model.ckpt-10000\n",
      "INFO:tensorflow:Running local_init_op.\n",
      "INFO:tensorflow:Done running local_init_op.\n",
      "INFO:tensorflow:Evaluation [1000/10000]\n",
      "INFO:tensorflow:Evaluation [2000/10000]\n",
      "INFO:tensorflow:Evaluation [3000/10000]\n",
      "INFO:tensorflow:Evaluation [4000/10000]\n",
      "INFO:tensorflow:Evaluation [5000/10000]\n",
      "INFO:tensorflow:Evaluation [6000/10000]\n",
      "INFO:tensorflow:Evaluation [7000/10000]\n",
      "INFO:tensorflow:Evaluation [8000/10000]\n",
      "INFO:tensorflow:Evaluation [9000/10000]\n",
      "INFO:tensorflow:Evaluation [10000/10000]\n",
      "INFO:tensorflow:Finished evaluation at 2024-02-07-00:05:59\n",
      "INFO:tensorflow:Saving dict for global step 10000: average_loss = 0.4881591, global_step = 10000, label/mean = -0.0051990636, loss = 15.621091, prediction/mean = -0.0015180084\n",
      "INFO:tensorflow:Saving 'checkpoint_path' summary for global step 10000: /tmp/tmphxjwaen0/model.ckpt-10000\n"
     ]
    }
   ],
   "source": [
    "metricas_treinamento = regressor.evaluate(input_fn = funcao_treinamento, steps = 10000)"
   ]
  },
  {
   "cell_type": "code",
   "execution_count": 23,
   "metadata": {},
   "outputs": [
    {
     "name": "stdout",
     "output_type": "stream",
     "text": [
      "INFO:tensorflow:Calling model_fn.\n",
      "INFO:tensorflow:Done calling model_fn.\n",
      "INFO:tensorflow:Starting evaluation at 2024-02-07T00:06:00Z\n",
      "INFO:tensorflow:Graph was finalized.\n",
      "INFO:tensorflow:Restoring parameters from /tmp/tmphxjwaen0/model.ckpt-10000\n",
      "INFO:tensorflow:Running local_init_op.\n",
      "INFO:tensorflow:Done running local_init_op.\n",
      "INFO:tensorflow:Evaluation [1000/10000]\n",
      "INFO:tensorflow:Evaluation [2000/10000]\n",
      "INFO:tensorflow:Evaluation [3000/10000]\n",
      "INFO:tensorflow:Evaluation [4000/10000]\n",
      "INFO:tensorflow:Evaluation [5000/10000]\n",
      "INFO:tensorflow:Evaluation [6000/10000]\n",
      "INFO:tensorflow:Evaluation [7000/10000]\n",
      "INFO:tensorflow:Evaluation [8000/10000]\n",
      "INFO:tensorflow:Evaluation [9000/10000]\n",
      "INFO:tensorflow:Evaluation [10000/10000]\n",
      "INFO:tensorflow:Finished evaluation at 2024-02-07-00:06:13\n",
      "INFO:tensorflow:Saving dict for global step 10000: average_loss = 0.55541545, global_step = 10000, label/mean = 0.012829076, loss = 17.773294, prediction/mean = -0.0051983427\n",
      "INFO:tensorflow:Saving 'checkpoint_path' summary for global step 10000: /tmp/tmphxjwaen0/model.ckpt-10000\n"
     ]
    }
   ],
   "source": [
    "metricas_teste = regressor.evaluate(input_fn = funcao_teste, steps = 10000)"
   ]
  },
  {
   "cell_type": "code",
   "execution_count": 24,
   "metadata": {},
   "outputs": [
    {
     "data": {
      "text/plain": [
       "{'average_loss': 0.4881591,\n",
       " 'label/mean': -0.0051990636,\n",
       " 'loss': 15.621091,\n",
       " 'prediction/mean': -0.0015180084,\n",
       " 'global_step': 10000}"
      ]
     },
     "execution_count": 24,
     "metadata": {},
     "output_type": "execute_result"
    }
   ],
   "source": [
    "metricas_treinamento"
   ]
  },
  {
   "cell_type": "code",
   "execution_count": 25,
   "metadata": {},
   "outputs": [
    {
     "data": {
      "text/plain": [
       "{'average_loss': 0.55541545,\n",
       " 'label/mean': 0.012829076,\n",
       " 'loss': 17.773294,\n",
       " 'prediction/mean': -0.0051983427,\n",
       " 'global_step': 10000}"
      ]
     },
     "execution_count": 25,
     "metadata": {},
     "output_type": "execute_result"
    }
   ],
   "source": [
    "metricas_teste"
   ]
  },
  {
   "cell_type": "code",
   "execution_count": 26,
   "metadata": {},
   "outputs": [
    {
     "data": {
      "text/plain": [
       "array([[ 800],\n",
       "       [ 900],\n",
       "       [1000]])"
      ]
     },
     "execution_count": 26,
     "metadata": {},
     "output_type": "execute_result"
    }
   ],
   "source": [
    "import numpy as np\n",
    "novas_casas = np.array([[800], [900], [1000]])\n",
    "novas_casas"
   ]
  },
  {
   "cell_type": "code",
   "execution_count": 27,
   "metadata": {},
   "outputs": [
    {
     "data": {
      "text/plain": [
       "array([[-1.39358923],\n",
       "       [-1.28470655],\n",
       "       [-1.17582386]])"
      ]
     },
     "execution_count": 27,
     "metadata": {},
     "output_type": "execute_result"
    }
   ],
   "source": [
    "novas_casas = scaler_x.transform(novas_casas)\n",
    "novas_casas"
   ]
  },
  {
   "cell_type": "code",
   "execution_count": 28,
   "metadata": {},
   "outputs": [],
   "source": [
    "funcao_previsao = tf.estimator.inputs.numpy_input_fn({'x': novas_casas}, shuffle = False)"
   ]
  },
  {
   "cell_type": "code",
   "execution_count": 29,
   "metadata": {},
   "outputs": [],
   "source": [
    "previsoes = regressor.predict(input_fn = funcao_previsao)"
   ]
  },
  {
   "cell_type": "code",
   "execution_count": 30,
   "metadata": {},
   "outputs": [
    {
     "data": {
      "text/plain": [
       "<generator object Estimator.predict at 0x7fd40959ac50>"
      ]
     },
     "execution_count": 30,
     "metadata": {},
     "output_type": "execute_result"
    }
   ],
   "source": [
    "previsoes"
   ]
  },
  {
   "cell_type": "code",
   "execution_count": 31,
   "metadata": {},
   "outputs": [
    {
     "name": "stdout",
     "output_type": "stream",
     "text": [
      "INFO:tensorflow:Calling model_fn.\n",
      "INFO:tensorflow:Done calling model_fn.\n",
      "INFO:tensorflow:Graph was finalized.\n",
      "INFO:tensorflow:Restoring parameters from /tmp/tmphxjwaen0/model.ckpt-10000\n",
      "INFO:tensorflow:Running local_init_op.\n",
      "INFO:tensorflow:Done running local_init_op.\n"
     ]
    },
    {
     "data": {
      "text/plain": [
       "[{'predictions': array([-0.93940264], dtype=float32)},\n",
       " {'predictions': array([-0.8662183], dtype=float32)},\n",
       " {'predictions': array([-0.7930339], dtype=float32)}]"
      ]
     },
     "execution_count": 31,
     "metadata": {},
     "output_type": "execute_result"
    }
   ],
   "source": [
    "list(previsoes)"
   ]
  },
  {
   "cell_type": "code",
   "execution_count": 32,
   "metadata": {},
   "outputs": [
    {
     "name": "stdout",
     "output_type": "stream",
     "text": [
      "INFO:tensorflow:Calling model_fn.\n",
      "INFO:tensorflow:Done calling model_fn.\n",
      "INFO:tensorflow:Graph was finalized.\n",
      "INFO:tensorflow:Restoring parameters from /tmp/tmphxjwaen0/model.ckpt-10000\n",
      "INFO:tensorflow:Running local_init_op.\n",
      "INFO:tensorflow:Done running local_init_op.\n",
      "[195215.86]\n",
      "[222083.2]\n",
      "[248950.58]\n"
     ]
    }
   ],
   "source": [
    "for p in regressor.predict(input_fn = funcao_previsao):\n",
    "    #print(p['predictions'])\n",
    "    print(scaler_y.inverse_transform(p['predictions']))"
   ]
  }
 ],
 "metadata": {
  "kernelspec": {
   "display_name": "curso-tensorflow",
   "language": "python",
   "name": "python3"
  },
  "language_info": {
   "codemirror_mode": {
    "name": "ipython",
    "version": 3
   },
   "file_extension": ".py",
   "mimetype": "text/x-python",
   "name": "python",
   "nbconvert_exporter": "python",
   "pygments_lexer": "ipython3",
   "version": "3.6.13"
  },
  "vscode": {
   "interpreter": {
    "hash": "71c5ec64baf92b03a5bf191241ed41080f9fba99dbfcec1f87bbe0d2231d5223"
   }
  }
 },
 "nbformat": 4,
 "nbformat_minor": 2
}
